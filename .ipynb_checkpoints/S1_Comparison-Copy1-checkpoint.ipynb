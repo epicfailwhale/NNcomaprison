{
 "cells": [
  {
   "cell_type": "markdown",
   "id": "436cdff0",
   "metadata": {},
   "source": [
    "# Comparison Program\n",
    "This program takes inputs of image pixel values from CSVs and compares them <br>\n",
    "Contents:\n",
    "1. Program Definition\n",
    "2. Create random noise data\n",
    "3. Comparing average sum of pixel-by-pixel value difference:<br>\n",
    "    a. Between PCA and original<br>\n",
    "    b. Between AE and original<br>\n",
    "    c. Between PCA and GAN<br>\n",
    "\n",
    "CSV structure explained:<br>\n",
    "Each row in the CSVs are 786 elements long, represent one image and are in the form <br>\n",
    "[label, original / reconstructred, 784 pixel values] <br>\n",
    "eg. [5, -20, 0, 0.3,..., 0.4, 0.2] <br> <br>\n",
    "\n",
    "Original images are exactly taken from MNIST dataset and denoted with -10 <br>\n",
    "Reconstructed images are taken from the various reconstruction methods and denoted with -20 <br>\n",
    "**Note:** images reconstructed from GAN were not able to be labelled with the original number, they are instead denoted with -1 in the position of label."
   ]
  },
  {
   "cell_type": "markdown",
   "id": "e7dfdf51",
   "metadata": {},
   "source": [
    "### 1. Program Definition"
   ]
  },
  {
   "cell_type": "code",
   "execution_count": 3,
   "id": "87d26118",
   "metadata": {},
   "outputs": [],
   "source": [
    "import csv\n",
    "import numpy\n",
    "import matplotlib.pyplot as plt"
   ]
  },
  {
   "cell_type": "code",
   "execution_count": 4,
   "id": "86c5af64",
   "metadata": {},
   "outputs": [],
   "source": [
    "# helpful functions\n",
    "def makefl(self):\n",
    "    output = numpy.asfarray(self)\n",
    "    return output\n",
    "\n",
    "def makeint(self):\n",
    "    for i in range(0,len(self)):\n",
    "        self[i] = int(float(self[i]))\n",
    "    return self   \n",
    "        "
   ]
  },
  {
   "cell_type": "markdown",
   "id": "17d00225",
   "metadata": {},
   "source": [
    "### 2. Generate and save random noise data in CSV\n",
    "This can be used as control for in secondary programs"
   ]
  },
  {
   "cell_type": "code",
   "execution_count": null,
   "id": "1fbc20fe",
   "metadata": {},
   "outputs": [],
   "source": [
    "import torch\n",
    "def generate_random_image(size):\n",
    "    random_data = torch.rand(size)\n",
    "    return random_data"
   ]
  },
  {
   "cell_type": "code",
   "execution_count": 119,
   "id": "ce2810ac",
   "metadata": {},
   "outputs": [
    {
     "data": {
      "image/png": "[encoded data removed]",
      "text/plain": [
       "<Figure size 432x288 with 1 Axes>"
      ]
     },
     "metadata": {
      "needs_background": "light"
     },
     "output_type": "display_data"
    }
   ],
   "source": [
    "# checking output is what we want\n",
    "output = generate_random_image(784)\n",
    "img = output.detach().numpy().reshape(28,28)\n",
    "\n",
    "plt.imshow(img, interpolation='none',cmap='gray')\n",
    "\n",
    "\n",
    "# saving to csv\n",
    "num_examples = 200\n",
    "with open('noise.csv','w', newline='') as f:\n",
    "    writer = csv.writer(f)\n",
    "   \n",
    "    for i in range(0,num_examples):\n",
    "        output = generate_random_image(784)\n",
    "        img = output.detach().numpy().reshape(28,28)\n",
    "\n",
    "        z = (-1,-20)\n",
    "        row = numpy.append(z, img)\n",
    "        writer.writerow(row)\n",
    "        pass"
   ]
  },
  {
   "cell_type": "markdown",
   "id": "1cc82d44",
   "metadata": {},
   "source": [
    "### 2. Comparing Reconstructed Output\n",
    "Compares original images with reconstructed images - using data captured at the end of training (M1.3, M2.5, M3.5)"
   ]
  },
  {
   "cell_type": "code",
   "execution_count": 253,
   "id": "94e6e6b3",
   "metadata": {},
   "outputs": [],
   "source": [
    "ae_labels=[]\n",
    "ae_orig_recon=[]\n",
    "ae_values=[]\n",
    "pca_labels=[]\n",
    "pca_orig_recon=[]\n",
    "pca_values=[]\n",
    "gan_labels=[]\n",
    "gan_orig_recon=[]\n",
    "gan_values=[]\n",
    "\n",
    "with open('M2.5_ae_data.csv', newline='') as f:\n",
    "    csv_data = csv.reader(f)\n",
    "    for row in csv_data:\n",
    "        ae_labels.append(row[0])\n",
    "        ae_orig_recon.append(row[1])\n",
    "        ae_values.append(row[2:])\n",
    "f.close()\n",
    "\n",
    "with open('M1.3_pca_data.csv', newline='') as f:\n",
    "    csv_data = csv.reader(f)\n",
    "    for row in csv_data:\n",
    "        pca_labels.append(row[0])\n",
    "        pca_orig_recon.append(row[1])\n",
    "        pca_values.append(row[2:])\n",
    "f.close()\n",
    "\n",
    "with open('M3.5_gan_data.csv', newline='') as f:\n",
    "    csv_data = csv.reader(f)\n",
    "    for row in csv_data:\n",
    "        gan_labels.append(row[0])\n",
    "        gan_orig_recon.append(row[1])\n",
    "        gan_values.append(row[2:])\n",
    "f.close()\n",
    "\n",
    "ae_labels = makeint(ae_labels)\n",
    "ae_orig_recon=makefl(ae_orig_recon)\n",
    "ae_values = makefl(ae_values)\n",
    "pca_labels=makeint(pca_labels)\n",
    "pca_orig_recon=makefl(pca_orig_recon)\n",
    "pca_values=makefl(pca_values)\n",
    "gan_labels=makeint(gan_labels)\n",
    "gan_orig_recon=makefl(gan_orig_recon)\n",
    "gan_values=makefl(gan_values)\n",
    "\n"
   ]
  },
  {
   "cell_type": "markdown",
   "id": "bc56b82b",
   "metadata": {},
   "source": [
    "### 3. Comparing average sum of pixel-by-pixel difference "
   ]
  },
  {
   "cell_type": "markdown",
   "id": "2eeed4d2",
   "metadata": {},
   "source": [
    "**3a. Between PCA and Original** <br>\n",
    "Pair-wise does one-to-one comparison of orignal input and its reconstruction following image compression <br>\n",
    "One-to-many comparison of a single original input and all of the the reconstructions of the same number"
   ]
  },
  {
   "cell_type": "code",
   "execution_count": 260,
   "id": "7c2052d9",
   "metadata": {},
   "outputs": [],
   "source": [
    "# pair-wise sum of pixel by pixel difference \n",
    "# this shows how well the method is at reconstructing images\n",
    "\n",
    "PCA_diff_matrix = numpy.zeros((2,10)) \n",
    "# record the sum of all differences, and count of how many times the digit is being compared\n",
    "PCA_diff_vector1 = numpy.zeros((10,)) # the average sum of all differences for each digit\n",
    "totaldiff = 0\n",
    "\n",
    "for i in range(0,len(pca_labels)):\n",
    "    if i%2 == 0: \n",
    "        # since the structure of the csv is such that one original and its reconstructed \n",
    "        # are saved one after the other, only enter for loop every second entry\n",
    "        \n",
    "        diff = sum(abs(pca_values[i] - pca_values[i+1])) #sum() for total difference in array\n",
    "        PCA_diff_matrix[0][pca_labels[i]] += diff # record sum of difference\n",
    "        PCA_diff_matrix[1][pca_labels[i]] += 1 # add number of images to corresponding digit\n",
    "        \n",
    "        totaldiff += diff\n",
    "        pass\n",
    "    pass\n",
    "\n",
    "# average pairwise difference per digit\n",
    "for i in range(0,10):\n",
    "    PCA_diff_vector1[i] = PCA_diff_matrix[0][i]/PCA_diff_matrix[1][i]       "
   ]
  },
  {
   "cell_type": "code",
   "execution_count": 261,
   "id": "6b95e54e",
   "metadata": {},
   "outputs": [
    {
     "name": "stdout",
     "output_type": "stream",
     "text": [
      "The overall average difference of between PCA original and reconstruction: 109.53698863375536\n",
      "which is a percentage of 13.971554672672877 %\n"
     ]
    }
   ],
   "source": [
    "# get the overall sum of difference for all original vs reconstructed\n",
    "difference = totaldiff/sum(PCA_diff_matrix[1])\n",
    "print('The overall average difference of between PCA original and reconstruction:', difference)\n",
    "print('which is a percentage of', difference*100/784, '%')"
   ]
  },
  {
   "cell_type": "code",
   "execution_count": 264,
   "id": "28df6615",
   "metadata": {
    "scrolled": false
   },
   "outputs": [
    {
     "name": "stdout",
     "output_type": "stream",
     "text": [
      "[109.26850735 104.02140423 115.91251167 109.68008751 109.98527671\n",
      " 110.99829651 110.7188018  111.41243191 110.59099899 106.64833139]\n",
      "Percentage difference:\n",
      "[13.93730961 13.26803625 14.78475914 13.98980708 14.02873427 14.15794598\n",
      " 14.12229615 14.21076938 14.10599477 13.60310349]\n"
     ]
    },
    {
     "data": {
      "image/png": "[encoded data removed]",
      "text/plain": [
       "<Figure size 432x288 with 1 Axes>"
      ]
     },
     "metadata": {
      "needs_background": "light"
     },
     "output_type": "display_data"
    }
   ],
   "source": [
    "# print \n",
    "\n",
    "print(PCA_diff_vector1)\n",
    "fig = plt.figure()\n",
    "plt.rcParams['font.size'] = '16'\n",
    "ax = fig.add_axes([0,0,1,1])\n",
    "labels = numpy.linspace(0, 9, num = 10)\n",
    "\n",
    "ax.bar(labels,PCA_diff_vector1, color = 'red')\n",
    "\n",
    "ax.set_ylabel('Average sum of difference')    # axis labels\n",
    "ax.set_xlabel('Digit')\n",
    "ax.set_title('Pairwise PCA vs Original')\n",
    "plt.show()\n",
    "\n",
    "\n",
    "print('Percentage difference:')\n",
    "print(100*PCA_diff_vector1/784)"
   ]
  },
  {
   "cell_type": "code",
   "execution_count": 265,
   "id": "08bad304",
   "metadata": {},
   "outputs": [],
   "source": [
    "# cross-wise sum of pixel by pixel difference between PCA reconstructions and original\n",
    "\n",
    "PCA_diff_matrix = numpy.zeros((2,10))\n",
    "PCA_diff_vector2 = numpy.zeros((10,))\n",
    "\n",
    "# cycle through every image\n",
    "for i in range(0,len(pca_labels)):\n",
    "    for j in range(0,len(pca_labels)):\n",
    "        \n",
    "        # if the images are of same digit and one is reconstruction, and the other is original, enter loop\n",
    "        if pca_labels[i] == pca_labels[j] and pca_orig_recon[i] == -20.0 and pca_orig_recon[j] == -10.0:  \n",
    "           \n",
    "            diff = sum(abs(pca_values[i] - pca_values[j])) #sum() for total difference in array\n",
    "            PCA_diff_matrix[0][pca_labels[i]] += diff # record sum of difference\n",
    "            PCA_diff_matrix[1][pca_labels[i]] += 1 # add to number of images of corresponding digit\n",
    "            pass\n",
    "        pass\n",
    "\n",
    "    \n",
    "# average crosswise difference per digit\n",
    "for i in range(0,10):\n",
    "    PCA_diff_vector2[i] = PCA_diff_matrix[0][i]/PCA_diff_matrix[1][i]        "
   ]
  },
  {
   "cell_type": "code",
   "execution_count": 266,
   "id": "3eb6b07b",
   "metadata": {},
   "outputs": [
    {
     "name": "stdout",
     "output_type": "stream",
     "text": [
      "The overall average crosswise difference of between all PCA original and reconstruction: 151.92008307124792\n",
      "which is a percentage of 19.3775616162306 %\n"
     ]
    }
   ],
   "source": [
    "# overall crosswise difference\n",
    "difference = sum(PCA_diff_vector2)/len(PCA_diff_vector2)\n",
    "print('The overall average crosswise difference of between all PCA original and reconstruction:', difference)\n",
    "print('which is a percentage of', difference*100/784, '%')"
   ]
  },
  {
   "cell_type": "code",
   "execution_count": 267,
   "id": "5a09ee80",
   "metadata": {
    "scrolled": false
   },
   "outputs": [
    {
     "name": "stdout",
     "output_type": "stream",
     "text": [
      "[161.232171   122.0871681  164.93162274 155.51924153 151.70539572\n",
      " 155.62584728 158.0914256  152.76007517 149.39771241 147.85017117]\n",
      "Percentage difference:\n",
      "[20.56532793 15.57234287 21.03719678 19.83663795 19.35017803 19.85023562\n",
      " 20.16472265 19.48470347 19.05583066 18.8584402 ]\n"
     ]
    },
    {
     "data": {
      "image/png": "[encoded data removed]",
      "text/plain": [
       "<Figure size 432x288 with 1 Axes>"
      ]
     },
     "metadata": {
      "needs_background": "light"
     },
     "output_type": "display_data"
    }
   ],
   "source": [
    "# comparing all original inputs to all reconstructions of the same digits \n",
    "\n",
    "print(PCA_diff_vector2)\n",
    "fig = plt.figure()\n",
    "plt.rcParams['font.size'] = '16'\n",
    "ax = fig.add_axes([0,0,1,1])\n",
    "labels = numpy.linspace(0, 9, num = 10)\n",
    "\n",
    "ax.bar(labels,PCA_diff_vector2)\n",
    "\n",
    "ax.set_ylabel('Average sum of difference')    # axis labels\n",
    "ax.set_xlabel('Digit')\n",
    "ax.set_title('Cross-wise PCA vs Original')\n",
    "plt.axhline(y=difference,linewidth=1, color='k')\n",
    "plt.show()\n",
    "\n",
    "\n",
    "print('Percentage difference:')\n",
    "print(100*PCA_diff_vector2/784)"
   ]
  },
  {
   "cell_type": "markdown",
   "id": "2ce9b000",
   "metadata": {},
   "source": [
    "**3b. Between AE and Original**"
   ]
  },
  {
   "cell_type": "code",
   "execution_count": 217,
   "id": "117b104f",
   "metadata": {},
   "outputs": [
    {
     "name": "stdout",
     "output_type": "stream",
     "text": [
      "[13. 14.  6. 11. 11.  5. 11. 10.  8. 11.]\n"
     ]
    }
   ],
   "source": [
    "# comparing pair-wise sum of pixel-by-pixel\n",
    "AE_diff_matrix = numpy.zeros((2,10))\n",
    "AE_diff_total = []\n",
    "\n",
    "for i in range(0,len(ae_labels)):\n",
    "    if i%2 == 0:\n",
    "        diff = sum(abs(ae_values[i] - ae_values[i+1])) #sum() for total difference in array\n",
    "        AE_diff_matrix[0][ae_labels[i]] += diff # sum of difference\n",
    "        AE_diff_matrix[1][ae_labels[i]] += 1 # number of images\n",
    "        \n",
    "        totaldiff = sum(abs(ae_values[i] - ae_values[i+1]))\n",
    "        AE_diff_total.append(totaldiff)\n",
    "        pass\n",
    "    pass\n",
    "print(AE_diff_matrix[1])\n",
    "\n",
    "for i in range(0,10):\n",
    "    AE_diff_vector1[i] = AE_diff_matrix[0][i]/AE_diff_matrix[1][i]"
   ]
  },
  {
   "cell_type": "code",
   "execution_count": 71,
   "id": "ef5d62a0",
   "metadata": {},
   "outputs": [
    {
     "name": "stdout",
     "output_type": "stream",
     "text": [
      "The overall average difference of between AE original and reconstruction: 172.80718875285828\n",
      "which is a percentage of 22.041733259293146 %\n"
     ]
    }
   ],
   "source": [
    "# original input compared to its reconstruction\n",
    "difference = sum(AE_diff_total)/len(AE_diff_total)\n",
    "print('The overall average difference of between AE original and reconstruction:', difference )\n",
    "print('which is a percentage of', difference*100/784,'%')"
   ]
  },
  {
   "cell_type": "code",
   "execution_count": 230,
   "id": "08f8599b",
   "metadata": {
    "scrolled": false
   },
   "outputs": [
    {
     "name": "stdout",
     "output_type": "stream",
     "text": [
      "[164.2284893  201.08116269 205.04679225 188.04597756 192.86605862\n",
      " 215.78085023 151.63874586 137.88234262 122.80403689 153.04769296]\n",
      "Percentage difference:\n",
      "[20.94751139 25.64810749 26.15392758 23.98545632 24.60026258 27.52306763\n",
      " 19.34167677 17.5870335  15.66378022 19.52138941]\n"
     ]
    },
    {
     "data": {
      "image/png": "[encoded data removed]",
      "text/plain": [
       "<Figure size 432x288 with 1 Axes>"
      ]
     },
     "metadata": {
      "needs_background": "light"
     },
     "output_type": "display_data"
    }
   ],
   "source": [
    "# printing the average sum of difference, comparing which digits differ the most \n",
    "print(AE_diff_vector1)\n",
    "fig = plt.figure()\n",
    "ax = fig.add_axes([0,0,1,1])\n",
    "labels = numpy.linspace(0, 9, num = 10)\n",
    "\n",
    "ax.bar(labels,AE_diff_vector1, color = 'red')\n",
    "\n",
    "ax.set_ylabel('Average sum of difference')    # axis labels\n",
    "ax.set_xlabel('Digit')\n",
    "ax.set_title('Pairwise AE vs Original')\n",
    "plt.axhline(y=difference,linewidth=1, color='k')\n",
    "plt.show()\n",
    "\n",
    "print('Percentage difference:')\n",
    "print(100*AE_diff_vector1/784)"
   ]
  },
  {
   "cell_type": "code",
   "execution_count": 219,
   "id": "62ee2398",
   "metadata": {},
   "outputs": [
    {
     "name": "stdout",
     "output_type": "stream",
     "text": [
      "[0. 0. 0. 0. 0. 0. 0. 0. 0. 0.]\n",
      "[169. 196.  36. 121. 121.  25. 121. 100.  64. 121.]\n"
     ]
    }
   ],
   "source": [
    "# comparing the sum of pixel by pixel difference between AE reconstructions and original\n",
    "\n",
    "AE_diff_matrix = numpy.zeros((2,10))\n",
    "\n",
    "for i in range(0,len(ae_labels)):\n",
    "    for j in range(0,len(ae_labels)):\n",
    "        if ae_labels[i] == ae_labels[j] and ae_orig_recon[i] == -20.0 and ae_orig_recon[j] == -10.0:  \n",
    "            diff = sum(abs(ae_values[i] - ae_values[j]))\n",
    "            AE_diff_matrix[0][ae_labels[i]] += diff # sum of difference\n",
    "            AE_diff_matrix[1][ae_labels[i]] += 1 # number of images\n",
    "            pass\n",
    "        pass\n",
    "\n",
    "# average difference \n",
    "AE_diff_vector2 = numpy.zeros((10,))\n",
    "print(AE_diff_vector2)\n",
    "for i in range(0,10):\n",
    "    AE_diff_vector2[i] = AE_diff_matrix[0][i]/AE_diff_matrix[1][i]   \n",
    "\n",
    "print(AE_diff_matrix[1])"
   ]
  },
  {
   "cell_type": "code",
   "execution_count": 231,
   "id": "7967cd8b",
   "metadata": {},
   "outputs": [
    {
     "name": "stdout",
     "output_type": "stream",
     "text": [
      "The overall average difference of between all AE original and reconstruction: 173.24221489653738\n",
      "which is a percentage of 22.097221287823643 %\n"
     ]
    }
   ],
   "source": [
    "# original input compared to its reconstruction\n",
    "difference = sum(AE_diff_vector2)/len(AE_diff_vector2)\n",
    "print('The overall average difference of between all AE original and reconstruction:', difference )\n",
    "print('which is a percentage of', difference*100/784,'%')"
   ]
  },
  {
   "cell_type": "code",
   "execution_count": 232,
   "id": "d3074cd9",
   "metadata": {
    "scrolled": false
   },
   "outputs": [
    {
     "name": "stdout",
     "output_type": "stream",
     "text": [
      "[164.2284893  201.08116269 205.04679225 188.04597756 192.86605862\n",
      " 215.78085023 151.63874586 137.88234262 122.80403689 153.04769296]\n",
      "Percentage difference:\n",
      "[20.94751139 25.64810749 26.15392758 23.98545632 24.60026258 27.52306763\n",
      " 19.34167677 17.5870335  15.66378022 19.52138941]\n"
     ]
    },
    {
     "data": {
      "image/png": "[encoded data removed]",
      "text/plain": [
       "<Figure size 432x288 with 1 Axes>"
      ]
     },
     "metadata": {
      "needs_background": "light"
     },
     "output_type": "display_data"
    }
   ],
   "source": [
    "# printing the average sum of difference, comparing which digits differ the most \n",
    "print(AE_diff_vector2)\n",
    "fig = plt.figure()\n",
    "ax = fig.add_axes([0,0,1,1])\n",
    "labels = numpy.linspace(0, 9, num = 10)\n",
    "\n",
    "ax.bar(labels,AE_diff_vector2)\n",
    "\n",
    "ax.set_ylabel('Average sum of difference')    # axis labels\n",
    "ax.set_xlabel('Digit')\n",
    "ax.set_title('Crosswise AE vs Original')\n",
    "plt.axhline(y=difference,linewidth=1, color='k')\n",
    "plt.show()\n",
    "\n",
    "print('Percentage difference:')\n",
    "print(100*AE_diff_vector2/784)"
   ]
  },
  {
   "cell_type": "markdown",
   "id": "c2bec1b1",
   "metadata": {},
   "source": [
    "**3c. Between AE and PCA**"
   ]
  },
  {
   "cell_type": "code",
   "execution_count": 109,
   "id": "4a84bb47",
   "metadata": {},
   "outputs": [
    {
     "name": "stdout",
     "output_type": "stream",
     "text": [
      "[0. 0. 0. 0. 0. 0. 0. 0. 0. 0.]\n"
     ]
    }
   ],
   "source": [
    "# comparing the sum of pixel by pixel difference between AE and PCA reconstructions\n",
    "# \n",
    "\n",
    "AEPCA_diff_matrix = numpy.zeros((2,10))\n",
    "AEPCA_diff_total = []\n",
    "# comparing the data according to labels\n",
    "for i in range(0,len(ae_labels)):\n",
    "    for j in range(0,len(pca_labels)):\n",
    "        if ae_labels[i] == pca_labels[j] and ae_orig_recon[i] == -20.0 and pca_orig_recon[j] == -20.0:  \n",
    "            # they are the same number and both recon, let's compare and add the differences\n",
    "            diff = sum(abs(ae_values[i] - pca_values[j]))\n",
    "            AEPCA_diff_matrix[0][ae_labels[i]] += diff # sum of difference\n",
    "            AEPCA_diff_matrix[1][ae_labels[i]] += 1 # number of images\n",
    "            AEPCA_diff_total.append(diff)\n",
    "\n",
    "# average difference \n",
    "AEPCA_diff_vector = numpy.zeros((10,))\n",
    "print(AEPCA_diff_vector)\n",
    "for i in range(0,10):\n",
    "    AEPCA_diff_vector[i] = AEPCA_diff_matrix[0][i]/AEPCA_diff_matrix[1][i]        "
   ]
  },
  {
   "cell_type": "code",
   "execution_count": 137,
   "id": "5bad3886",
   "metadata": {},
   "outputs": [
    {
     "name": "stdout",
     "output_type": "stream",
     "text": [
      "The overall average difference of between AE and PCA: 175.97007663445984\n",
      "which is a percentage of 22.44516283602804 %\n"
     ]
    }
   ],
   "source": [
    "difference = sum(AEPCA_diff_total)/len(AEPCA_diff_total)\n",
    "print('The overall average difference of between AE and PCA:', difference )\n",
    "print('which is a percentage of', difference*100/784,'%')"
   ]
  },
  {
   "cell_type": "code",
   "execution_count": 138,
   "id": "1f369b11",
   "metadata": {},
   "outputs": [
    {
     "name": "stdout",
     "output_type": "stream",
     "text": [
      "The overall average difference of between all AE original and reconstruction: 179.6756230253337\n",
      "which is a percentage of 22.91780905935379 %\n"
     ]
    }
   ],
   "source": [
    "difference = sum(AEPCA_diff_vector)/len(AEPCA_diff_vector)\n",
    "print('The overall average difference of between all AE original and reconstruction:', difference )\n",
    "print('which is a percentage of', difference*100/784,'%')"
   ]
  },
  {
   "cell_type": "code",
   "execution_count": 243,
   "id": "be346894",
   "metadata": {},
   "outputs": [
    {
     "name": "stdout",
     "output_type": "stream",
     "text": [
      "[195.38737472 169.81788265 192.08225589 198.96748065 184.51503552\n",
      " 201.40254813 167.13669873 144.78094299 174.09852242 168.56748856]\n",
      "Percentage difference:\n",
      "[24.92185902 21.66044422 24.50028774 25.37850519 23.53508106 25.68910053\n",
      " 21.31845647 18.46695701 22.20644419 21.50095517]\n"
     ]
    },
    {
     "data": {
      "image/png": "[encoded data removed]",
      "text/plain": [
       "<Figure size 432x288 with 1 Axes>"
      ]
     },
     "metadata": {
      "needs_background": "light"
     },
     "output_type": "display_data"
    }
   ],
   "source": [
    "# printing the average sum of difference, comparing which digits differ the most \n",
    "print(AEPCA_diff_vector)\n",
    "fig = plt.figure()\n",
    "ax = fig.add_axes([0,0,1,1])\n",
    "labels = numpy.linspace(0, 9, num = 10)\n",
    "\n",
    "ax.bar(labels,AEPCA_diff_vector)\n",
    "\n",
    "ax.set_ylabel('Average sum of difference')    # axis labels\n",
    "ax.set_xlabel('Digit')\n",
    "ax.set_title('Crosswise PCA vs AE')\n",
    "plt.axhline(y=difference,linewidth=1, color='k')\n",
    "plt.show()\n",
    "\n",
    "print('Percentage difference:')\n",
    "print(100*AEPCA_diff_vector/784)"
   ]
  },
  {
   "cell_type": "markdown",
   "id": "f9e36657",
   "metadata": {},
   "source": [
    "## 4. Compare with noise"
   ]
  },
  {
   "cell_type": "code",
   "execution_count": 126,
   "id": "6c676cfc",
   "metadata": {},
   "outputs": [],
   "source": [
    "# load noise pictures into arrays\n",
    "noise_values=[]\n",
    "\n",
    "with open('noise.csv', newline='') as f:\n",
    "    csv_data = csv.reader(f)\n",
    "    for row in csv_data:\n",
    "        noise_values.append(row[2:])\n",
    "f.close()\n",
    "\n",
    "noise_values = makefl(noise_values)"
   ]
  },
  {
   "cell_type": "markdown",
   "id": "cd15ab38",
   "metadata": {},
   "source": [
    "### 4a. Noise vs PCA"
   ]
  },
  {
   "cell_type": "code",
   "execution_count": 223,
   "id": "4a930d19",
   "metadata": {},
   "outputs": [
    {
     "name": "stdout",
     "output_type": "stream",
     "text": [
      "[0. 0. 0. 0. 0. 0. 0. 0. 0. 0.]\n"
     ]
    }
   ],
   "source": [
    "# compare PCA with noise\n",
    "\n",
    "PCAnoise_diff_matrix = numpy.zeros((2,10))\n",
    "# comparing the data according to labels\n",
    "for i in range(0,len(pca_labels)):\n",
    "     if pca_orig_recon[i] == -10.0:\n",
    "        # they are the same number and both recon, let's compare and add the differences\n",
    "        diff = sum(abs(pca_values[i] - noise_values[i]))\n",
    "        PCAnoise_diff_matrix[0][pca_labels[i]] += diff # sum of difference\n",
    "        PCAnoise_diff_matrix[1][pca_labels[i]] += 1 # number of images\n",
    "#             print(diff)\n",
    "\n",
    "\n",
    "# average difference \n",
    "PCAnoise_diff_vector = numpy.zeros((10,))\n",
    "print(PCAnoise_diff_vector)\n",
    "for i in range(0,10):\n",
    "    PCAnoise_diff_vector[i] = PCAnoise_diff_matrix[0][i]/PCAnoise_diff_matrix[1][i]        "
   ]
  },
  {
   "cell_type": "code",
   "execution_count": 224,
   "id": "2714bef7",
   "metadata": {
    "scrolled": true
   },
   "outputs": [
    {
     "name": "stdout",
     "output_type": "stream",
     "text": [
      "[372.23790823 389.30170292 374.58550151 375.0767813  375.87187969\n",
      " 371.59560537 375.50768839 381.04799986 376.04993215 376.47713325]\n",
      "Percentage difference:\n",
      "[47.47932503 49.65582945 47.77876295 47.84142619 47.9428418  47.39739864\n",
      " 47.89638882 48.60306121 47.96555257 48.02004251]\n"
     ]
    },
    {
     "data": {
      "image/png": "[encoded data removed]",
      "text/plain": [
       "<Figure size 432x288 with 1 Axes>"
      ]
     },
     "metadata": {
      "needs_background": "light"
     },
     "output_type": "display_data"
    }
   ],
   "source": [
    "# printing the average sum of difference, comparing which digits differ the most \n",
    "print(PCAnoise_diff_vector)\n",
    "\n",
    "labels = ['0','1','2','3','4','5','6','7','8','9']\n",
    "x1 = numpy.arange(len(labels))\n",
    "x2 = [x + width for x in x1]\n",
    "x3 = [x + width for x in x2]\n",
    "width = 0.4\n",
    "\n",
    "fig, ax = plt.subplots()\n",
    "\n",
    "group1 = ax.bar(x1, PCA_diff_vector, width, label = 'PCA vs Original')\n",
    "group2 = ax.bar(x2, PCA_)\n",
    "group2 = ax.bar(x3, PCAnoise_diff_vector, width, label = 'Noise Control')\n",
    "\n",
    "ax.set_ylabel('Average sum of difference')    # axis labels\n",
    "ax.set_xlabel('Digit')\n",
    "ax.set_title('PCA vs Original')\n",
    "ax.legend(bbox_to_anchor=(1.05,1.0),loc='lower center')\n",
    "\n",
    "plt.show()\n",
    "\n",
    "print('Percentage difference:')\n",
    "print(100*PCAnoise_diff_vector/784)"
   ]
  },
  {
   "cell_type": "code",
   "execution_count": 240,
   "id": "8a8cf0d0",
   "metadata": {},
   "outputs": [],
   "source": [
    "# compare AE with noise\n",
    "\n",
    "AEnoise_diff_matrix = numpy.zeros((2,10))\n",
    "# comparing the data according to labels\n",
    "for i in range(0,len(ae_labels)):\n",
    "     if ae_orig_recon[i] == -10.0:\n",
    "        # they are the same number and both recon, let's compare and add the differences\n",
    "        diff = sum(abs(ae_values[i] - noise_values[i]))\n",
    "        AEnoise_diff_matrix[0][ae_labels[i]] += diff # sum of difference\n",
    "        AEnoise_diff_matrix[1][ae_labels[i]] += 1 # number of images\n",
    "#             print(diff)\n",
    "\n",
    "\n",
    "# average difference \n",
    "AEnoise_diff_vector = numpy.zeros((10,))\n",
    "\n",
    "for i in range(0,10):\n",
    "    AEnoise_diff_vector[i] = AEnoise_diff_matrix[0][i]/AEnoise_diff_matrix[1][i]        \n"
   ]
  },
  {
   "cell_type": "code",
   "execution_count": 241,
   "id": "ed39bab1",
   "metadata": {
    "scrolled": true
   },
   "outputs": [
    {
     "name": "stdout",
     "output_type": "stream",
     "text": [
      "[375.37049792 379.36430703 367.37839167 375.7784263  376.89033123\n",
      " 377.51111037 380.15436222 375.18823036 377.29921596 376.55551161]\n",
      "Percentage difference:\n",
      "[47.47932503 49.65582945 47.77876295 47.84142619 47.9428418  47.39739864\n",
      " 47.89638882 48.60306121 47.96555257 48.02004251]\n"
     ]
    },
    {
     "data": {
      "image/png": "[encoded data removed]",
      "text/plain": [
       "<Figure size 432x288 with 1 Axes>"
      ]
     },
     "metadata": {
      "needs_background": "light"
     },
     "output_type": "display_data"
    }
   ],
   "source": [
    "# printing the average sum of difference, comparing which digits differ the most \n",
    "print(AEnoise_diff_vector)\n",
    "\n",
    "labels = ['0','1','2','3','4','5','6','7','8','9']\n",
    "x = numpy.arange(len(labels))\n",
    "width = 0.35\n",
    "\n",
    "fig, ax = plt.subplots()\n",
    "\n",
    "group1 = ax.bar(x+width/2, AE_diff_vector, width, label = 'AE vs Original')\n",
    "group2 = ax.bar(x-width/2, AEnoise_diff_vector, width, label = 'Noise Control')\n",
    "\n",
    "ax.set_ylabel('Average sum of difference')    # axis labels\n",
    "ax.set_xlabel('Digit')\n",
    "ax.set_title('AE vs Original')\n",
    "ax.legend(bbox_to_anchor=(1.05,1.0),loc='lower center')\n",
    "\n",
    "plt.show()\n",
    "\n",
    "print('Percentage difference:')\n",
    "print(100*PCAnoise_diff_vector/784)"
   ]
  },
  {
   "cell_type": "code",
   "execution_count": 242,
   "id": "fbe9498d",
   "metadata": {},
   "outputs": [],
   "source": [
    "input_labels = []\n",
    "input_values=[]\n",
    "\n",
    "with open('mnist_dataset/mnist_train_100.csv', newline='') as f:\n",
    "                  \n",
    "    csv_data = csv.reader(f)\n",
    "    for row in csv_data:\n",
    "        input_labels.append(row[0])\n",
    "        input_values.append(row[1:])\n",
    "    f.close()\n",
    "\n",
    "input_labels=makeint(input_labels)\n",
    "input_values=makefl(input_values)"
   ]
  },
  {
   "cell_type": "code",
   "execution_count": null,
   "id": "98444f60",
   "metadata": {},
   "outputs": [],
   "source": []
  }
 ],
 "metadata": {
  "kernelspec": {
   "display_name": "Python 3",
   "language": "python",
   "name": "python3"
  },
  "language_info": {
   "codemirror_mode": {
    "name": "ipython",
    "version": 3
   },
   "file_extension": ".py",
   "mimetype": "text/x-python",
   "name": "python",
   "nbconvert_exporter": "python",
   "pygments_lexer": "ipython3",
   "version": "3.8.8"
  }
 },
 "nbformat": 4,
 "nbformat_minor": 5
}
