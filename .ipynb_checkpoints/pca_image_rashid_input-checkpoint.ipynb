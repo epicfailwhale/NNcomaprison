{
 "cells": [
  {
   "cell_type": "markdown",
   "id": "24ec9c45",
   "metadata": {},
   "source": [
    "**Using PCA to compress images**\n",
    "https://www.askpython.com/python/examples/principal-component-analysis"
   ]
  },
  {
   "cell_type": "code",
   "execution_count": 4,
   "id": "2624c9b3",
   "metadata": {},
   "outputs": [],
   "source": [
    "import torch\n",
    "import torch.nn as nn\n",
    "from torch.utils.data import Dataset\n",
    "\n",
    "import pandas\n",
    "import matplotlib.pyplot as plt\n",
    "import numpy as np"
   ]
  },
  {
   "cell_type": "code",
   "execution_count": 50,
   "id": "1a95ea08",
   "metadata": {},
   "outputs": [],
   "source": [
    "def PCA(X , num_components):\n",
    "     \n",
    "    #Step-1\n",
    "    X_meaned = X - np.mean(X , axis = 0)\n",
    "    \n",
    "    #print('x mean', X_meaned)\n",
    "     \n",
    "    #Step-2 covariance matirx - gives the covariance between each pair of elements of a given random vector\n",
    "    # basically how much the data 'covaries' with each other along dimensions, around the centre\n",
    "    cov_mat = np.cov(X_meaned , rowvar = False)\n",
    "    \n",
    "    #print('cov mat', cov_mat)\n",
    "     \n",
    "    #Step-3\n",
    "    eigen_values , eigen_vectors = np.linalg.eigh(cov_mat)\n",
    "    # eigen vectors, v, are those that are along the same projection line following transformation\n",
    "    # ie. Av = yv\n",
    "    # eigen value is y, the scale of projection\n",
    "     \n",
    "    #Step-4\n",
    "    sorted_index = np.argsort(eigen_values)[::-1]\n",
    "    sorted_eigenvalue = eigen_values[sorted_index]\n",
    "    sorted_eigenvectors = eigen_vectors[:,sorted_index]\n",
    "    # sorting the eigen values in terms of their size\n",
    "    # largest eigen value corresponds to principal component with highest variability\n",
    "    # then sort the eigen vectors into the same order as well\n",
    "     \n",
    "    #Step-5\n",
    "    eigenvector_subset = sorted_eigenvectors[:,0:num_components]\n",
    "    # then take the first num_components of the eigen vectors ie. the number\n",
    "    # of principal components we are concerned with\n",
    "     \n",
    "    #Step-6\n",
    "    X_reduced = np.dot(eigenvector_subset.transpose() , X_meaned.transpose() ).transpose()\n",
    "    # input data shape is (dimension1, dimension2)\n",
    "    # output data shape (dimension1, num_components)\n",
    "    \n",
    "    #print('X_reduced', X_reduced)\n",
    "     \n",
    "    return X_reduced, sorted_eigenvectors, sorted_eigenvalue, X_meaned"
   ]
  },
  {
   "cell_type": "code",
   "execution_count": 58,
   "id": "646629a6",
   "metadata": {},
   "outputs": [
    {
     "name": "stdout",
     "output_type": "stream",
     "text": [
      "lavel\n",
      " 0     5\n",
      "1     0\n",
      "2     4\n",
      "3     1\n",
      "4     9\n",
      "     ..\n",
      "95    0\n",
      "96    7\n",
      "97    8\n",
      "98    3\n",
      "99    1\n",
      "Name: 0, Length: 100, dtype: int64\n",
      "(784,)\n"
     ]
    }
   ],
   "source": [
    "#prepare the data\n",
    "x = mnist_dataset[:][1]\n",
    "x_df = pd.DataFrame(x.numpy())\n",
    "\n",
    "#prepare the label - ie. the label of the data point\n",
    "label = mnist_dataset[:][0]\n",
    "# label_df = pd.DataFrame(label.numpy())\n",
    "print('lavel\\n', label)\n",
    "\n",
    " \n",
    "#Applying it to PCA function\n",
    "mat_reduced = PCA(x_df , 2)\n",
    "\n",
    "print(numpy.shape(mat_reduced[2]))"
   ]
  },
  {
   "cell_type": "code",
   "execution_count": 75,
   "id": "cbfc4a89",
   "metadata": {},
   "outputs": [],
   "source": [
    "def reconstruct(image_vector, eigen_vectors, score, mean_vector):\n",
    "#      reconstruction(image,np.transpose(eig_vecs),score,mean_vector,i)\n",
    "# recontruct, get from (dimension1, num_components) back to (dimension1, 784)\n",
    "# dimension 1 number of pictures\n",
    "    recon = numpy.dot((eigen_vectors), score)\n",
    "    for i in range(len(recon)):\n",
    "        recon[i] += mean_vector[i]\n",
    "    \n",
    "#     print(recon)\n",
    "    return recon"
   ]
  },
  {
   "cell_type": "code",
   "execution_count": 76,
   "id": "f309754c",
   "metadata": {},
   "outputs": [
    {
     "name": "stdout",
     "output_type": "stream",
     "text": [
      "(784,)\n"
     ]
    }
   ],
   "source": [
    "image = x_df.iloc[57]\n",
    "eig_vecs = mat_reduced[1]\n",
    "eig_values = mat_reduced[2]\n",
    "score = numpy.dot(eig_vecs, image)\n",
    "mean_vector = np.mean(x_df, axis = 0)\n",
    "\n",
    "\n",
    "recon = reconstruct(image,np.transpose(eig_vecs),score,mean_vector)\n",
    "print(numpy.shape(recon))"
   ]
  },
  {
   "cell_type": "code",
   "execution_count": 77,
   "id": "9de333f9",
   "metadata": {},
   "outputs": [
    {
     "data": {
      "text/plain": [
       "<matplotlib.image.AxesImage at 0x2373e85d820>"
      ]
     },
     "execution_count": 77,
     "metadata": {},
     "output_type": "execute_result"
    },
    {
     "data": {
      "image/png": "[encoded data removed]",
      "text/plain": [
       "<Figure size 432x288 with 1 Axes>"
      ]
     },
     "metadata": {
      "needs_background": "light"
     },
     "output_type": "display_data"
    }
   ],
   "source": [
    "second_image = x_df.iloc[57].values.reshape([28,28])  # reshape it into square\n",
    "plt.imshow(second_image, cmap='gray_r')     # and present!\n"
   ]
  },
  {
   "cell_type": "code",
   "execution_count": 78,
   "id": "a2caba3c",
   "metadata": {},
   "outputs": [
    {
     "data": {
      "text/plain": [
       "<matplotlib.image.AxesImage at 0x2373e8b0e50>"
      ]
     },
     "execution_count": 78,
     "metadata": {},
     "output_type": "execute_result"
    },
    {
     "data": {
      "image/png": "[encoded data removed]",
      "text/plain": [
       "<Figure size 432x288 with 1 Axes>"
      ]
     },
     "metadata": {
      "needs_background": "light"
     },
     "output_type": "display_data"
    }
   ],
   "source": [
    "# DISPLAYING ANY IMAGE - here using x ie. input data\n",
    "\n",
    "#           [the corresponding row number in the big training array]\n",
    "second_image = recon.reshape([28,28])  # reshape it into square\n",
    "plt.imshow(second_image, cmap='gray_r')     # and present!\n",
    "\n"
   ]
  },
  {
   "cell_type": "code",
   "execution_count": 6,
   "id": "11f06ced",
   "metadata": {},
   "outputs": [],
   "source": [
    "class MnistDataset(Dataset):\n",
    "    \n",
    "    def __init__(self, csv_file):\n",
    "        self.data_df = pandas.read_csv(csv_file, header=None)\n",
    "        pass\n",
    "    \n",
    "    def __len__(self):\n",
    "        return len(self.data_df)\n",
    "    \n",
    "    def __getitem__(self, index):\n",
    "        # image target (label)\n",
    "        label = self.data_df.iloc[index,0]\n",
    "        target = torch.zeros((10))\n",
    "        target[label] = 1.0\n",
    "        \n",
    "        # image data, normalised from 0-255 to 0-1\n",
    "        image_values = torch.FloatTensor(self.data_df.iloc[index,1:].values) / 255.0\n",
    "        \n",
    "        # return label, image data tensor and target tensor\n",
    "        return label, image_values, target\n",
    "    \n",
    "    def plot_image(self, index):\n",
    "        img = self.data_df.iloc[index,1:].values.reshape(28,28)\n",
    "        plt.title(\"label = \" + str(self.data_df.iloc[index,0]))\n",
    "        plt.imshow(img, interpolation='none', cmap='Blues')\n",
    "        pass\n",
    "    \n",
    "    pass"
   ]
  },
  {
   "cell_type": "code",
   "execution_count": 33,
   "id": "b8a9894a",
   "metadata": {},
   "outputs": [
    {
     "name": "stdout",
     "output_type": "stream",
     "text": [
      "100\n",
      "(100,) <class 'pandas.core.series.Series'>\n"
     ]
    },
    {
     "ename": "AttributeError",
     "evalue": "'Series' object has no attribute 'numpy'",
     "output_type": "error",
     "traceback": [
      "\u001b[1;31m---------------------------------------------------------------------------\u001b[0m",
      "\u001b[1;31mAttributeError\u001b[0m                            Traceback (most recent call last)",
      "\u001b[1;32m<ipython-input-33-9459db4a5fae>\u001b[0m in \u001b[0;36m<module>\u001b[1;34m\u001b[0m\n\u001b[0;32m      5\u001b[0m \u001b[0mx\u001b[0m \u001b[1;33m=\u001b[0m \u001b[0mmnist_dataset\u001b[0m\u001b[1;33m[\u001b[0m\u001b[1;33m:\u001b[0m\u001b[1;33m]\u001b[0m\u001b[1;33m[\u001b[0m\u001b[1;36m0\u001b[0m\u001b[1;33m]\u001b[0m\u001b[1;33m\u001b[0m\u001b[1;33m\u001b[0m\u001b[0m\n\u001b[0;32m      6\u001b[0m \u001b[0mprint\u001b[0m\u001b[1;33m(\u001b[0m\u001b[0mnumpy\u001b[0m\u001b[1;33m.\u001b[0m\u001b[0mshape\u001b[0m\u001b[1;33m(\u001b[0m\u001b[0mx\u001b[0m\u001b[1;33m)\u001b[0m\u001b[1;33m,\u001b[0m \u001b[0mtype\u001b[0m\u001b[1;33m(\u001b[0m\u001b[0mx\u001b[0m\u001b[1;33m)\u001b[0m\u001b[1;33m)\u001b[0m\u001b[1;33m\u001b[0m\u001b[1;33m\u001b[0m\u001b[0m\n\u001b[1;32m----> 7\u001b[1;33m \u001b[0mx_df\u001b[0m \u001b[1;33m=\u001b[0m \u001b[0mpd\u001b[0m\u001b[1;33m.\u001b[0m\u001b[0mDataFrame\u001b[0m\u001b[1;33m(\u001b[0m\u001b[0mx\u001b[0m\u001b[1;33m.\u001b[0m\u001b[0mnumpy\u001b[0m\u001b[1;33m(\u001b[0m\u001b[1;33m)\u001b[0m\u001b[1;33m)\u001b[0m\u001b[1;33m\u001b[0m\u001b[1;33m\u001b[0m\u001b[0m\n\u001b[0m\u001b[0;32m      8\u001b[0m \u001b[0mprint\u001b[0m\u001b[1;33m(\u001b[0m\u001b[0mnumpy\u001b[0m\u001b[1;33m.\u001b[0m\u001b[0mshape\u001b[0m\u001b[1;33m(\u001b[0m\u001b[0mx_df\u001b[0m\u001b[1;33m)\u001b[0m\u001b[1;33m,\u001b[0m \u001b[0mtype\u001b[0m\u001b[1;33m(\u001b[0m\u001b[0mx_df\u001b[0m\u001b[1;33m)\u001b[0m\u001b[1;33m)\u001b[0m\u001b[1;33m\u001b[0m\u001b[1;33m\u001b[0m\u001b[0m\n",
      "\u001b[1;32m~\\anaconda3\\lib\\site-packages\\pandas\\core\\generic.py\u001b[0m in \u001b[0;36m__getattr__\u001b[1;34m(self, name)\u001b[0m\n\u001b[0;32m   5463\u001b[0m             \u001b[1;32mif\u001b[0m \u001b[0mself\u001b[0m\u001b[1;33m.\u001b[0m\u001b[0m_info_axis\u001b[0m\u001b[1;33m.\u001b[0m\u001b[0m_can_hold_identifiers_and_holds_name\u001b[0m\u001b[1;33m(\u001b[0m\u001b[0mname\u001b[0m\u001b[1;33m)\u001b[0m\u001b[1;33m:\u001b[0m\u001b[1;33m\u001b[0m\u001b[1;33m\u001b[0m\u001b[0m\n\u001b[0;32m   5464\u001b[0m                 \u001b[1;32mreturn\u001b[0m \u001b[0mself\u001b[0m\u001b[1;33m[\u001b[0m\u001b[0mname\u001b[0m\u001b[1;33m]\u001b[0m\u001b[1;33m\u001b[0m\u001b[1;33m\u001b[0m\u001b[0m\n\u001b[1;32m-> 5465\u001b[1;33m             \u001b[1;32mreturn\u001b[0m \u001b[0mobject\u001b[0m\u001b[1;33m.\u001b[0m\u001b[0m__getattribute__\u001b[0m\u001b[1;33m(\u001b[0m\u001b[0mself\u001b[0m\u001b[1;33m,\u001b[0m \u001b[0mname\u001b[0m\u001b[1;33m)\u001b[0m\u001b[1;33m\u001b[0m\u001b[1;33m\u001b[0m\u001b[0m\n\u001b[0m\u001b[0;32m   5466\u001b[0m \u001b[1;33m\u001b[0m\u001b[0m\n\u001b[0;32m   5467\u001b[0m     \u001b[1;32mdef\u001b[0m \u001b[0m__setattr__\u001b[0m\u001b[1;33m(\u001b[0m\u001b[0mself\u001b[0m\u001b[1;33m,\u001b[0m \u001b[0mname\u001b[0m\u001b[1;33m:\u001b[0m \u001b[0mstr\u001b[0m\u001b[1;33m,\u001b[0m \u001b[0mvalue\u001b[0m\u001b[1;33m)\u001b[0m \u001b[1;33m->\u001b[0m \u001b[1;32mNone\u001b[0m\u001b[1;33m:\u001b[0m\u001b[1;33m\u001b[0m\u001b[1;33m\u001b[0m\u001b[0m\n",
      "\u001b[1;31mAttributeError\u001b[0m: 'Series' object has no attribute 'numpy'"
     ]
    }
   ],
   "source": [
    "mnist_dataset = MnistDataset('mnist_dataset/mnist_train_100.csv')\n",
    "# print(mnist_dataset[1][1])\n",
    "print(len(mnist_dataset))\n",
    "\n",
    "x = mnist_dataset[:][0]\n",
    "print(numpy.shape(x), type(x))\n",
    "x_df = pd.DataFrame(x.numpy())\n",
    "print(numpy.shape(x_df), type(x_df))"
   ]
  },
  {
   "cell_type": "code",
   "execution_count": 36,
   "id": "cc7c0cce",
   "metadata": {},
   "outputs": [
    {
     "name": "stdout",
     "output_type": "stream",
     "text": [
      "lavel\n",
      " 0     5\n",
      "1     0\n",
      "2     4\n",
      "3     1\n",
      "4     9\n",
      "     ..\n",
      "95    0\n",
      "96    7\n",
      "97    8\n",
      "98    3\n",
      "99    1\n",
      "Name: 0, Length: 100, dtype: int64\n",
      "         PC1       PC2  0\n",
      "0  -1.245137 -1.595815  5\n",
      "1  -4.318578  1.712929  0\n",
      "2   0.899237  0.348863  4\n",
      "3   3.192519 -1.247315  1\n",
      "4   1.685397  1.938380  9\n",
      "..       ...       ... ..\n",
      "95 -6.047332  2.020016  0\n",
      "96  2.462806  0.995374  7\n",
      "97 -0.074811  0.300879  8\n",
      "98 -0.481279 -4.640902  3\n",
      "99  3.564169 -1.030985  1\n",
      "\n",
      "[100 rows x 3 columns]\n",
      "(100, 3)\n",
      "torch.Size([100, 784])\n"
     ]
    }
   ],
   "source": [
    "import pandas as pd\n",
    " \n",
    "mnist_dataset = MnistDataset('mnist_dataset/mnist_train_100.csv')\n",
    "\n",
    "# gonna attempt to do it the way we did before\n",
    "# firstline = list(range(0,785))\n",
    "# data = pd.read_csv('mnist_dataset/mnist_train_100.csv', names = firstline, index_col=False)\n",
    "\n",
    "\n",
    "#prepare the data\n",
    "x = mnist_dataset[:][1]\n",
    "x_df = pd.DataFrame(x.numpy())\n",
    "\n",
    "#prepare the label - ie. the label of the data point\n",
    "label = mnist_dataset[:][0]\n",
    "# label_df = pd.DataFrame(label.numpy())\n",
    "print('label\\n', label)\n",
    "\n",
    " \n",
    "#Applying it to PCA function\n",
    "mat_reduced = PCA(x_df , 2)\n",
    "\n",
    " \n",
    "#Creating a Pandas DataFrame of reduced Dataset\n",
    "principal_df = pd.DataFrame(mat_reduced , columns = ['PC1', 'PC2'])\n",
    "\n",
    "#print(principal_df)\n",
    " \n",
    "#Concat it with target variable to create a complete Dataset\n",
    "principal_df = pd.concat([principal_df , pd.DataFrame(target)] , axis = 1)\n",
    "# concat means concatenate - link things together in chain / series \n",
    "# ie. join together two datasets / arrays / lists\n",
    "# here join back the data with their label points\n",
    "\n",
    "print(principal_df)\n",
    "print(np.shape(principal_df))\n",
    "print(np.shape(x))\n",
    "\n",
    "\n",
    "\n",
    "# still need to turn it into a new picture"
   ]
  },
  {
   "cell_type": "markdown",
   "id": "b04ce6b3",
   "metadata": {},
   "source": [
    "https://training.incf.org/lesson/tutorial-3-dimensionality-reduction-and-reconstruction <br> good at explaining variance in data"
   ]
  },
  {
   "cell_type": "code",
   "execution_count": 12,
   "id": "a2288f26",
   "metadata": {},
   "outputs": [
    {
     "name": "stdout",
     "output_type": "stream",
     "text": [
      "x shape (100, 784) <class 'pandas.core.frame.DataFrame'>\n",
      "            PC1          PC2  0\n",
      "0   -317.510084  -406.932771  5\n",
      "1  -1101.237389   436.796834  0\n",
      "2    229.305400    88.960092  4\n",
      "3    814.092262  -318.065225  1\n",
      "4    429.776153   494.286816  9\n",
      "..          ...          ... ..\n",
      "95 -1542.069632   515.104222  0\n",
      "96   628.015444   253.820285  7\n",
      "97   -19.076971    76.724241  8\n",
      "98  -122.726122 -1183.430040  3\n",
      "99   908.862994  -262.901175  1\n",
      "\n",
      "[100 rows x 3 columns]\n",
      "(100, 3)\n",
      "(100, 784)\n"
     ]
    }
   ],
   "source": [
    "import pandas as pd\n",
    "import numpy\n",
    " \n",
    "\n",
    "# gonna attempt to do it the way we did before\n",
    "firstline = list(range(0,785))\n",
    "data = pd.read_csv('mnist_dataset/mnist_train_100.csv', names = firstline, index_col=False)\n",
    "\n",
    "\n",
    "#prepare the data\n",
    "x = data.iloc[:,1:785]\n",
    "print('x shape', numpy.shape(x), type(x))\n",
    "\n",
    "\n",
    "#prepare the target - ie. the label of the data points\n",
    "target = data.iloc[:,0]\n",
    "# print('targ\\n', target)\n",
    "\n",
    " \n",
    "#Applying it to PCA function\n",
    "mat_reduced = PCA(x , 2)\n",
    "\n",
    " \n",
    "#Creating a Pandas DataFrame of reduced Dataset\n",
    "principal_df = pd.DataFrame(mat_reduced , columns = ['PC1', 'PC2'])\n",
    "# so, each of these columns reprsents where along the '2' dimensions \n",
    "# (vary dimensions according to how many PCAs there are) the image lies\n",
    "\n",
    "#print(principal_df)\n",
    " \n",
    "#Concat it with target variable to create a complete Dataset\n",
    "principal_df = pd.concat([principal_df , pd.DataFrame(target)] , axis = 1)\n",
    "# concat means concatenate - link things together in chain / series \n",
    "# ie. join together two datasets / arrays / lists\n",
    "# here join back the data with their label points\n",
    "\n",
    "print(principal_df)\n",
    "print(np.shape(principal_df))\n",
    "print(np.shape(x))\n",
    "\n",
    "\n",
    "\n",
    "# still need to turn it into a new picture"
   ]
  },
  {
   "cell_type": "code",
   "execution_count": 39,
   "id": "124643ac",
   "metadata": {},
   "outputs": [
    {
     "data": {
      "text/plain": [
       "<matplotlib.image.AxesImage at 0x2373e63ba90>"
      ]
     },
     "execution_count": 39,
     "metadata": {},
     "output_type": "execute_result"
    },
    {
     "data": {
      "image/png": "[encoded data removed]",
      "text/plain": [
       "<Figure size 432x288 with 1 Axes>"
      ]
     },
     "metadata": {
      "needs_background": "light"
     },
     "output_type": "display_data"
    }
   ],
   "source": [
    "# DISPLAYING ANY IMAGE - here using x ie. input data\n",
    "\n",
    "#           [the corresponding row number in the big training array]\n",
    "second_image = x_df.iloc[23].values.reshape([28,28])  # reshape it into square\n",
    "plt.imshow(second_image, cmap='gray_r')     # and present!\n"
   ]
  },
  {
   "cell_type": "code",
   "execution_count": 45,
   "id": "c4e99ee3",
   "metadata": {},
   "outputs": [
    {
     "ename": "TypeError",
     "evalue": "list indices must be integers or slices, not tuple",
     "output_type": "error",
     "traceback": [
      "\u001b[1;31m---------------------------------------------------------------------------\u001b[0m",
      "\u001b[1;31mTypeError\u001b[0m                                 Traceback (most recent call last)",
      "\u001b[1;32m<ipython-input-45-7a15e519b408>\u001b[0m in \u001b[0;36m<module>\u001b[1;34m\u001b[0m\n\u001b[0;32m      6\u001b[0m \u001b[0mprojected\u001b[0m \u001b[1;33m=\u001b[0m \u001b[1;33m[\u001b[0m\u001b[1;33m]\u001b[0m\u001b[1;33m\u001b[0m\u001b[1;33m\u001b[0m\u001b[0m\n\u001b[0;32m      7\u001b[0m \u001b[1;31m# get the first projection\u001b[0m\u001b[1;33m\u001b[0m\u001b[1;33m\u001b[0m\u001b[1;33m\u001b[0m\u001b[0m\n\u001b[1;32m----> 8\u001b[1;33m \u001b[0mfirst_proj\u001b[0m \u001b[1;33m=\u001b[0m \u001b[0mprojected\u001b[0m\u001b[1;33m[\u001b[0m\u001b[1;33m:\u001b[0m\u001b[1;33m,\u001b[0m\u001b[1;36m0\u001b[0m\u001b[1;33m]\u001b[0m\u001b[1;33m\u001b[0m\u001b[1;33m\u001b[0m\u001b[0m\n\u001b[0m\u001b[0;32m      9\u001b[0m \u001b[1;31m# Make sure your first component is a column vector\u001b[0m\u001b[1;33m\u001b[0m\u001b[1;33m\u001b[0m\u001b[1;33m\u001b[0m\u001b[0m\n\u001b[0;32m     10\u001b[0m \u001b[0mfirst_proj\u001b[0m \u001b[1;33m=\u001b[0m \u001b[0mfirst_proj\u001b[0m\u001b[1;33m.\u001b[0m\u001b[0mreshape\u001b[0m\u001b[1;33m(\u001b[0m\u001b[1;33m-\u001b[0m\u001b[1;36m1\u001b[0m\u001b[1;33m,\u001b[0m\u001b[1;36m1\u001b[0m\u001b[1;33m)\u001b[0m\u001b[1;33m\u001b[0m\u001b[1;33m\u001b[0m\u001b[0m\n",
      "\u001b[1;31mTypeError\u001b[0m: list indices must be integers or slices, not tuple"
     ]
    }
   ],
   "source": [
    "projected = pca.fit_transform(patches_reshaped.data)\n",
    "\n",
    "# First get your first component\n",
    "first_component = principal_df.PC1\n",
    "# Make sure your first component is a row vector\n",
    "# first_component = first_component.reshape(1,-1) \n",
    "\n",
    "projected = []\n",
    "# get the first projection \n",
    "first_proj = projected[:,0]\n",
    "# Make sure your first component is a column vector\n",
    "first_proj = first_proj.reshape(-1,1)\n",
    "# do inverse transform (No you have to add the mean as thse algorithm \n",
    "# works on zero mean data) \n",
    "recon_using_first_comp = np.dot(proj, first_component) + pca.mean_\n",
    "\n",
    "final_img = image.reconstruct_from_patches_2d(recon_using_first_comp.reshape(-1,25,25), grayscale_image.shape)"
   ]
  },
  {
   "cell_type": "code",
   "execution_count": null,
   "id": "8b9eee2a",
   "metadata": {},
   "outputs": [],
   "source": [
    "def reconstruction(X, n, trans):\n",
    "    \n",
    "    \"\"\"\n",
    "    X is the original, n is the number of dimensions \n",
    "    \n",
    "    Creates a reconstruction of an input record, X, using the topmost (n) vectors from the\n",
    "    given transformation (trans)\n",
    "    \n",
    "    Note 1: In this dataset each record is the set of pixels in the image (flattened to \n",
    "    one row).\n",
    "    Note 2: X should be normalized before input.\n",
    "    \"\"\"\n",
    "    vectors = [trans.components_[n] * X[n] for n in range(0, n)]\n",
    "    # i THINK .components_[3] means you're splitting the data into 3 principal components.\n",
    "    # and trans.components_[3] means you're applying the 3 components onto the data trans\n",
    "    # trans is the result of sklearn given some random pca data i don't really know.\n",
    "    # okay i think trans is in fact just the formula for pca\n",
    "    # so i could just do the vector of pca values?\n",
    "    # components_ are mathematically the eigenvectors of the covariance matrix of the \n",
    "    # centered input matrix. This can be verified by using plain numpy.\n",
    "    \n",
    "    # Invert the PCA transformation.\n",
    "    ret = trans.inverse_transform(X)\n",
    "    \n",
    "    # This process results in non-normal noise on the margins of the data.\n",
    "    # We clip the results to fit in the [0, 1] interval.\n",
    "    ret[ret < 0] = 0\n",
    "    ret[ret > 1] = 1\n",
    "    return ret"
   ]
  },
  {
   "cell_type": "code",
   "execution_count": null,
   "id": "2a7f127d",
   "metadata": {},
   "outputs": [],
   "source": [
    "# x_norm is the original\n",
    "# x_norm_r is the reconstructed\n",
    "fig, axarr = plt.subplots(1, 2, figsize=(12, 4))\n",
    "\n",
    "sns.heatmap(X_norm[0, :].reshape(28, 28), cmap='gray_r',\n",
    "            ax=axarr[0])\n",
    "sns.heatmap(reconstruction(X_norm_r[0, :], 120, pca).reshape(28, 28), cmap='gray_r',\n",
    "            ax=axarr[1])\n",
    "axarr[0].set_aspect('equal')\n",
    "axarr[0].axis('off')\n",
    "axarr[1].set_aspect('equal')\n",
    "axarr[1].axis('off')"
   ]
  },
  {
   "cell_type": "code",
   "execution_count": 63,
   "id": "c3fafec3",
   "metadata": {},
   "outputs": [
    {
     "ename": "ValueError",
     "evalue": "Could not interpret value `red` for parameter `hue`",
     "output_type": "error",
     "traceback": [
      "\u001b[1;31m---------------------------------------------------------------------------\u001b[0m",
      "\u001b[1;31mValueError\u001b[0m                                Traceback (most recent call last)",
      "\u001b[1;32m<ipython-input-63-1100279a5541>\u001b[0m in \u001b[0;36m<module>\u001b[1;34m\u001b[0m\n\u001b[0;32m      4\u001b[0m \u001b[0mfig\u001b[0m \u001b[1;33m=\u001b[0m \u001b[0mplt\u001b[0m\u001b[1;33m.\u001b[0m\u001b[0mfigure\u001b[0m\u001b[1;33m(\u001b[0m\u001b[0mfigsize\u001b[0m \u001b[1;33m=\u001b[0m \u001b[1;33m(\u001b[0m\u001b[1;36m6\u001b[0m\u001b[1;33m,\u001b[0m\u001b[1;36m6\u001b[0m\u001b[1;33m)\u001b[0m\u001b[1;33m)\u001b[0m\u001b[1;33m\u001b[0m\u001b[1;33m\u001b[0m\u001b[0m\n\u001b[0;32m      5\u001b[0m \u001b[1;33m\u001b[0m\u001b[0m\n\u001b[1;32m----> 6\u001b[1;33m \u001b[0msb\u001b[0m\u001b[1;33m.\u001b[0m\u001b[0mscatterplot\u001b[0m\u001b[1;33m(\u001b[0m\u001b[0mdata\u001b[0m \u001b[1;33m=\u001b[0m \u001b[0mprincipal_df\u001b[0m \u001b[1;33m,\u001b[0m \u001b[0mx\u001b[0m \u001b[1;33m=\u001b[0m \u001b[1;34m'PC1'\u001b[0m\u001b[1;33m,\u001b[0m\u001b[0my\u001b[0m \u001b[1;33m=\u001b[0m \u001b[1;34m'PC2'\u001b[0m \u001b[1;33m,\u001b[0m \u001b[0mhue\u001b[0m \u001b[1;33m=\u001b[0m \u001b[1;34m'red'\u001b[0m\u001b[1;33m,\u001b[0m \u001b[0ms\u001b[0m \u001b[1;33m=\u001b[0m \u001b[1;36m60\u001b[0m \u001b[1;33m,\u001b[0m \u001b[0mpalette\u001b[0m\u001b[1;33m=\u001b[0m \u001b[1;34m'icefire'\u001b[0m\u001b[1;33m)\u001b[0m\u001b[1;33m\u001b[0m\u001b[1;33m\u001b[0m\u001b[0m\n\u001b[0m\u001b[0;32m      7\u001b[0m \u001b[1;31m# this just becomes a weird mess of dots.... do they mean anything maybe??\u001b[0m\u001b[1;33m\u001b[0m\u001b[1;33m\u001b[0m\u001b[1;33m\u001b[0m\u001b[0m\n\u001b[0;32m      8\u001b[0m \u001b[1;31m# they show the variation of data 'clumps' of each digit\u001b[0m\u001b[1;33m\u001b[0m\u001b[1;33m\u001b[0m\u001b[1;33m\u001b[0m\u001b[0m\n",
      "\u001b[1;32m~\\anaconda3\\lib\\site-packages\\seaborn\\_decorators.py\u001b[0m in \u001b[0;36minner_f\u001b[1;34m(*args, **kwargs)\u001b[0m\n\u001b[0;32m     44\u001b[0m             )\n\u001b[0;32m     45\u001b[0m         \u001b[0mkwargs\u001b[0m\u001b[1;33m.\u001b[0m\u001b[0mupdate\u001b[0m\u001b[1;33m(\u001b[0m\u001b[1;33m{\u001b[0m\u001b[0mk\u001b[0m\u001b[1;33m:\u001b[0m \u001b[0marg\u001b[0m \u001b[1;32mfor\u001b[0m \u001b[0mk\u001b[0m\u001b[1;33m,\u001b[0m \u001b[0marg\u001b[0m \u001b[1;32min\u001b[0m \u001b[0mzip\u001b[0m\u001b[1;33m(\u001b[0m\u001b[0msig\u001b[0m\u001b[1;33m.\u001b[0m\u001b[0mparameters\u001b[0m\u001b[1;33m,\u001b[0m \u001b[0margs\u001b[0m\u001b[1;33m)\u001b[0m\u001b[1;33m}\u001b[0m\u001b[1;33m)\u001b[0m\u001b[1;33m\u001b[0m\u001b[1;33m\u001b[0m\u001b[0m\n\u001b[1;32m---> 46\u001b[1;33m         \u001b[1;32mreturn\u001b[0m \u001b[0mf\u001b[0m\u001b[1;33m(\u001b[0m\u001b[1;33m**\u001b[0m\u001b[0mkwargs\u001b[0m\u001b[1;33m)\u001b[0m\u001b[1;33m\u001b[0m\u001b[1;33m\u001b[0m\u001b[0m\n\u001b[0m\u001b[0;32m     47\u001b[0m     \u001b[1;32mreturn\u001b[0m \u001b[0minner_f\u001b[0m\u001b[1;33m\u001b[0m\u001b[1;33m\u001b[0m\u001b[0m\n\u001b[0;32m     48\u001b[0m \u001b[1;33m\u001b[0m\u001b[0m\n",
      "\u001b[1;32m~\\anaconda3\\lib\\site-packages\\seaborn\\relational.py\u001b[0m in \u001b[0;36mscatterplot\u001b[1;34m(x, y, hue, style, size, data, palette, hue_order, hue_norm, sizes, size_order, size_norm, markers, style_order, x_bins, y_bins, units, estimator, ci, n_boot, alpha, x_jitter, y_jitter, legend, ax, **kwargs)\u001b[0m\n\u001b[0;32m    799\u001b[0m \u001b[1;33m\u001b[0m\u001b[0m\n\u001b[0;32m    800\u001b[0m     \u001b[0mvariables\u001b[0m \u001b[1;33m=\u001b[0m \u001b[0m_ScatterPlotter\u001b[0m\u001b[1;33m.\u001b[0m\u001b[0mget_semantics\u001b[0m\u001b[1;33m(\u001b[0m\u001b[0mlocals\u001b[0m\u001b[1;33m(\u001b[0m\u001b[1;33m)\u001b[0m\u001b[1;33m)\u001b[0m\u001b[1;33m\u001b[0m\u001b[1;33m\u001b[0m\u001b[0m\n\u001b[1;32m--> 801\u001b[1;33m     p = _ScatterPlotter(\n\u001b[0m\u001b[0;32m    802\u001b[0m         \u001b[0mdata\u001b[0m\u001b[1;33m=\u001b[0m\u001b[0mdata\u001b[0m\u001b[1;33m,\u001b[0m \u001b[0mvariables\u001b[0m\u001b[1;33m=\u001b[0m\u001b[0mvariables\u001b[0m\u001b[1;33m,\u001b[0m\u001b[1;33m\u001b[0m\u001b[1;33m\u001b[0m\u001b[0m\n\u001b[0;32m    803\u001b[0m         \u001b[0mx_bins\u001b[0m\u001b[1;33m=\u001b[0m\u001b[0mx_bins\u001b[0m\u001b[1;33m,\u001b[0m \u001b[0my_bins\u001b[0m\u001b[1;33m=\u001b[0m\u001b[0my_bins\u001b[0m\u001b[1;33m,\u001b[0m\u001b[1;33m\u001b[0m\u001b[1;33m\u001b[0m\u001b[0m\n",
      "\u001b[1;32m~\\anaconda3\\lib\\site-packages\\seaborn\\relational.py\u001b[0m in \u001b[0;36m__init__\u001b[1;34m(self, data, variables, x_bins, y_bins, estimator, ci, n_boot, alpha, x_jitter, y_jitter, legend)\u001b[0m\n\u001b[0;32m    585\u001b[0m         )\n\u001b[0;32m    586\u001b[0m \u001b[1;33m\u001b[0m\u001b[0m\n\u001b[1;32m--> 587\u001b[1;33m         \u001b[0msuper\u001b[0m\u001b[1;33m(\u001b[0m\u001b[1;33m)\u001b[0m\u001b[1;33m.\u001b[0m\u001b[0m__init__\u001b[0m\u001b[1;33m(\u001b[0m\u001b[0mdata\u001b[0m\u001b[1;33m=\u001b[0m\u001b[0mdata\u001b[0m\u001b[1;33m,\u001b[0m \u001b[0mvariables\u001b[0m\u001b[1;33m=\u001b[0m\u001b[0mvariables\u001b[0m\u001b[1;33m)\u001b[0m\u001b[1;33m\u001b[0m\u001b[1;33m\u001b[0m\u001b[0m\n\u001b[0m\u001b[0;32m    588\u001b[0m \u001b[1;33m\u001b[0m\u001b[0m\n\u001b[0;32m    589\u001b[0m         \u001b[0mself\u001b[0m\u001b[1;33m.\u001b[0m\u001b[0malpha\u001b[0m \u001b[1;33m=\u001b[0m \u001b[0malpha\u001b[0m\u001b[1;33m\u001b[0m\u001b[1;33m\u001b[0m\u001b[0m\n",
      "\u001b[1;32m~\\anaconda3\\lib\\site-packages\\seaborn\\_core.py\u001b[0m in \u001b[0;36m__init__\u001b[1;34m(self, data, variables)\u001b[0m\n\u001b[0;32m    602\u001b[0m     \u001b[1;32mdef\u001b[0m \u001b[0m__init__\u001b[0m\u001b[1;33m(\u001b[0m\u001b[0mself\u001b[0m\u001b[1;33m,\u001b[0m \u001b[0mdata\u001b[0m\u001b[1;33m=\u001b[0m\u001b[1;32mNone\u001b[0m\u001b[1;33m,\u001b[0m \u001b[0mvariables\u001b[0m\u001b[1;33m=\u001b[0m\u001b[1;33m{\u001b[0m\u001b[1;33m}\u001b[0m\u001b[1;33m)\u001b[0m\u001b[1;33m:\u001b[0m\u001b[1;33m\u001b[0m\u001b[1;33m\u001b[0m\u001b[0m\n\u001b[0;32m    603\u001b[0m \u001b[1;33m\u001b[0m\u001b[0m\n\u001b[1;32m--> 604\u001b[1;33m         \u001b[0mself\u001b[0m\u001b[1;33m.\u001b[0m\u001b[0massign_variables\u001b[0m\u001b[1;33m(\u001b[0m\u001b[0mdata\u001b[0m\u001b[1;33m,\u001b[0m \u001b[0mvariables\u001b[0m\u001b[1;33m)\u001b[0m\u001b[1;33m\u001b[0m\u001b[1;33m\u001b[0m\u001b[0m\n\u001b[0m\u001b[0;32m    605\u001b[0m \u001b[1;33m\u001b[0m\u001b[0m\n\u001b[0;32m    606\u001b[0m         \u001b[1;32mfor\u001b[0m \u001b[0mvar\u001b[0m\u001b[1;33m,\u001b[0m \u001b[0mcls\u001b[0m \u001b[1;32min\u001b[0m \u001b[0mself\u001b[0m\u001b[1;33m.\u001b[0m\u001b[0m_semantic_mappings\u001b[0m\u001b[1;33m.\u001b[0m\u001b[0mitems\u001b[0m\u001b[1;33m(\u001b[0m\u001b[1;33m)\u001b[0m\u001b[1;33m:\u001b[0m\u001b[1;33m\u001b[0m\u001b[1;33m\u001b[0m\u001b[0m\n",
      "\u001b[1;32m~\\anaconda3\\lib\\site-packages\\seaborn\\_core.py\u001b[0m in \u001b[0;36massign_variables\u001b[1;34m(self, data, variables)\u001b[0m\n\u001b[0;32m    665\u001b[0m         \u001b[1;32melse\u001b[0m\u001b[1;33m:\u001b[0m\u001b[1;33m\u001b[0m\u001b[1;33m\u001b[0m\u001b[0m\n\u001b[0;32m    666\u001b[0m             \u001b[0mself\u001b[0m\u001b[1;33m.\u001b[0m\u001b[0minput_format\u001b[0m \u001b[1;33m=\u001b[0m \u001b[1;34m\"long\"\u001b[0m\u001b[1;33m\u001b[0m\u001b[1;33m\u001b[0m\u001b[0m\n\u001b[1;32m--> 667\u001b[1;33m             plot_data, variables = self._assign_variables_longform(\n\u001b[0m\u001b[0;32m    668\u001b[0m                 \u001b[0mdata\u001b[0m\u001b[1;33m,\u001b[0m \u001b[1;33m**\u001b[0m\u001b[0mvariables\u001b[0m\u001b[1;33m,\u001b[0m\u001b[1;33m\u001b[0m\u001b[1;33m\u001b[0m\u001b[0m\n\u001b[0;32m    669\u001b[0m             )\n",
      "\u001b[1;32m~\\anaconda3\\lib\\site-packages\\seaborn\\_core.py\u001b[0m in \u001b[0;36m_assign_variables_longform\u001b[1;34m(self, data, **kwargs)\u001b[0m\n\u001b[0;32m    900\u001b[0m \u001b[1;33m\u001b[0m\u001b[0m\n\u001b[0;32m    901\u001b[0m                 \u001b[0merr\u001b[0m \u001b[1;33m=\u001b[0m \u001b[1;34mf\"Could not interpret value `{val}` for parameter `{key}`\"\u001b[0m\u001b[1;33m\u001b[0m\u001b[1;33m\u001b[0m\u001b[0m\n\u001b[1;32m--> 902\u001b[1;33m                 \u001b[1;32mraise\u001b[0m \u001b[0mValueError\u001b[0m\u001b[1;33m(\u001b[0m\u001b[0merr\u001b[0m\u001b[1;33m)\u001b[0m\u001b[1;33m\u001b[0m\u001b[1;33m\u001b[0m\u001b[0m\n\u001b[0m\u001b[0;32m    903\u001b[0m \u001b[1;33m\u001b[0m\u001b[0m\n\u001b[0;32m    904\u001b[0m             \u001b[1;32melse\u001b[0m\u001b[1;33m:\u001b[0m\u001b[1;33m\u001b[0m\u001b[1;33m\u001b[0m\u001b[0m\n",
      "\u001b[1;31mValueError\u001b[0m: Could not interpret value `red` for parameter `hue`"
     ]
    },
    {
     "data": {
      "text/plain": [
       "<Figure size 432x432 with 0 Axes>"
      ]
     },
     "metadata": {},
     "output_type": "display_data"
    }
   ],
   "source": [
    "import seaborn as sb\n",
    "import matplotlib.pyplot as plt\n",
    " \n",
    "fig = plt.figure(figsize = (6,6))\n",
    "\n",
    "sb.scatterplot(data = principal_df , x = 'PC1',y = 'PC2' , hue = 'red', s = 60 , palette= 'icefire')\n",
    "# this just becomes a weird mess of dots.... do they mean anything maybe??\n",
    "# they show the variation of data 'clumps' of each digit\n",
    "\n",
    "principal_df()\n",
    "\n",
    "second_image = principal_df.iloc[1].values.reshape([28,28])\n",
    "plt.imshow(second_image, cmap='gray_r')\n",
    "\n",
    "\n",
    "\n",
    "\n",
    "\n"
   ]
  },
  {
   "cell_type": "code",
   "execution_count": 57,
   "id": "a56df14a",
   "metadata": {},
   "outputs": [
    {
     "ename": "ImportError",
     "evalue": "cannot import name 'cv2' from 'IPython' (C:\\Users\\victo\\anaconda3\\lib\\site-packages\\IPython\\__init__.py)",
     "output_type": "error",
     "traceback": [
      "\u001b[1;31m---------------------------------------------------------------------------\u001b[0m",
      "\u001b[1;31mImportError\u001b[0m                               Traceback (most recent call last)",
      "\u001b[1;32m<ipython-input-57-15539d97a74e>\u001b[0m in \u001b[0;36m<module>\u001b[1;34m\u001b[0m\n\u001b[1;32m----> 1\u001b[1;33m \u001b[1;32mfrom\u001b[0m \u001b[0mIPython\u001b[0m \u001b[1;32mimport\u001b[0m \u001b[0mcv2\u001b[0m\u001b[1;33m\u001b[0m\u001b[1;33m\u001b[0m\u001b[0m\n\u001b[0m\u001b[0;32m      2\u001b[0m \u001b[1;32mimport\u001b[0m \u001b[0mnumpy\u001b[0m \u001b[1;32mas\u001b[0m \u001b[0mnp\u001b[0m\u001b[1;33m\u001b[0m\u001b[1;33m\u001b[0m\u001b[0m\n\u001b[0;32m      3\u001b[0m \u001b[1;33m\u001b[0m\u001b[0m\n\u001b[0;32m      4\u001b[0m \u001b[1;31m# Read RGB image into an array\u001b[0m\u001b[1;33m\u001b[0m\u001b[1;33m\u001b[0m\u001b[1;33m\u001b[0m\u001b[0m\n\u001b[0;32m      5\u001b[0m \u001b[0mimg\u001b[0m \u001b[1;33m=\u001b[0m \u001b[0mcv2\u001b[0m\u001b[1;33m.\u001b[0m\u001b[0mimread\u001b[0m\u001b[1;33m(\u001b[0m\u001b[1;34m'car.jpg'\u001b[0m\u001b[1;33m)\u001b[0m\u001b[1;33m\u001b[0m\u001b[1;33m\u001b[0m\u001b[0m\n",
      "\u001b[1;31mImportError\u001b[0m: cannot import name 'cv2' from 'IPython' (C:\\Users\\victo\\anaconda3\\lib\\site-packages\\IPython\\__init__.py)"
     ]
    }
   ],
   "source": []
  }
 ],
 "metadata": {
  "kernelspec": {
   "display_name": "Python 3",
   "language": "python",
   "name": "python3"
  },
  "language_info": {
   "codemirror_mode": {
    "name": "ipython",
    "version": 3
   },
   "file_extension": ".py",
   "mimetype": "text/x-python",
   "name": "python",
   "nbconvert_exporter": "python",
   "pygments_lexer": "ipython3",
   "version": "3.8.8"
  }
 },
 "nbformat": 4,
 "nbformat_minor": 5
}
